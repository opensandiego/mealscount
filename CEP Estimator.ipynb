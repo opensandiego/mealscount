{
 "cells": [
  {
   "cell_type": "code",
   "execution_count": null,
   "metadata": {},
   "outputs": [],
   "source": [
    "# First, parse our California school data from a CSV bundled in the repo\n",
    "import csv,codecs\n",
    "\n",
    "i = lambda x: int(x.replace(',','')) # Quick function to make \"123,123\" into an int 123123\n",
    "cupc_csv_file = 'data/ca/latest.csv'\n",
    "schools_data = [\n",
    "    r for r in \n",
    "    csv.DictReader(codecs.open(cupc_csv_file)) \n",
    "    if i(r['total_enrolled']) > 0 # ignore 0 student schools\n",
    "] \n",
    "\n",
    "len(schools_data)"
   ]
  },
  {
   "cell_type": "code",
   "execution_count": null,
   "metadata": {},
   "outputs": [],
   "source": [
    "# The CEPSchool and CEPDistrict classes encapsulate our data model\n",
    "# We first take the raw school data and push it into CEPDistrict and CEPSchools,\n",
    "# reducing it to a list of Districts, each with its list of schools\n",
    "from strategies.base import CEPSchool, CEPDistrict\n",
    "districts = {}\n",
    "for row in schools_data:\n",
    "    school = CEPSchool(row)\n",
    "    if row['District Code'] not in districts:\n",
    "        district = CEPDistrict(row['District Name'],row['District Code'])\n",
    "        districts[row['District Code']] = district\n",
    "    districts[row['District Code']].add_school(school)\n",
    "districts = list(districts.values())\n",
    "districts.sort()\n",
    "len(districts)"
   ]
  },
  {
   "cell_type": "code",
   "execution_count": null,
   "metadata": {},
   "outputs": [],
   "source": [
    "# The CEPDistrict class represents a School District\n",
    "# it has a list of CEPSchools, and provides some aggregate information\n",
    "\n",
    "# Let's inspect a district\n",
    "san_diego = [d for d in districts if d.name == 'San Diego Unified'][0]\n",
    "san_diego.name,len(san_diego.schools),san_diego.code,san_diego.overall_isp,san_diego.total_enrolled\n",
    "\n",
    "    "
   ]
  },
  {
   "cell_type": "code",
   "execution_count": null,
   "metadata": {},
   "outputs": [],
   "source": [
    "# We can look at all the schools\n",
    "from IPython.display import display, HTML\n",
    "import tabulate\n",
    "\n",
    "school_table = [('School','Total Enrolled','School Type','ISP%')] + \\\n",
    "            [ (s.name,s.total_enrolled,s.school_type, ('%0.2f%%' % (s.isp*100.0)), s.active ) \n",
    "              for s in san_diego.schools ]\n",
    "\n",
    "display(HTML(tabulate.tabulate(school_table,tablefmt='html')))\n"
   ]
  },
  {
   "cell_type": "code",
   "execution_count": null,
   "metadata": {},
   "outputs": [],
   "source": [
    "# Or do some charts\n",
    "import matplotlib.pyplot as plt\n",
    "\n",
    "plt.hist([s.total_enrolled for s in san_diego.schools], 20, label='Label')\n",
    "plt.show()"
   ]
  },
  {
   "cell_type": "code",
   "execution_count": null,
   "metadata": {},
   "outputs": [],
   "source": [
    "# Strategies are the algorithms we use to group schools\n",
    "# Each one extends BaseStrategy and overrides the \"create_groups\" method\n",
    "# Here we need to define which strategies we want to run\n",
    "# We pass them into parse_districts as the class name, any parameters for it, and a name\n",
    "# this way we can run the sam strategy in multiple configurations\n",
    "\n",
    "from strategies.naive import OneGroupCEPStrategy,OneToOneCEPStrategy\n",
    "\n",
    "# If we create a strategy, and run its create_groups method with the district as the\n",
    "# incoming parameter, then it fills its own \"groups\" member with the resulting CEPGroup objects\n",
    "strategy = OneGroupCEPStrategy()\n",
    "strategy = OneToOneCEPStrategy()\n",
    "strategy.create_groups(san_diego)\n",
    "\n",
    "# In the case of OneGroup, we have only 1 group in our list\n",
    "g = strategy.groups[0]\n",
    "g,g.covered_students,g.est_reimbursement()\n"
   ]
  },
  {
   "cell_type": "code",
   "execution_count": null,
   "metadata": {},
   "outputs": [],
   "source": [
    "# We can see the recommended grouping of schools for the strategy result\n",
    "from strategies.pairs import PairsCEPStrategy\n",
    "strategy = PairsCEPStrategy()\n",
    "\n",
    "strategy.create_groups(san_diego)\n",
    "\n",
    "school_groupings = [('Group','School','Group ISP','School ISP','School Type','School Total Enrolled')]\n",
    "for g in strategy.groups:\n",
    "    for s in g.schools:\n",
    "        school_groupings.append( (g.name,s.name,g.isp,s.isp,s.school_type,s.total_enrolled))\n",
    "display(HTML(tabulate.tabulate(school_groupings,tablefmt='html')))\n"
   ]
  },
  {
   "cell_type": "code",
   "execution_count": null,
   "metadata": {},
   "outputs": [],
   "source": [
    "from strategies.nyc_moda_simulated_annealing import NYCMODASimulatedAnnealingCEPStrategy\n",
    "strategy = NYCMODASimulatedAnnealingCEPStrategy()\n",
    "groups = strategy.create_groups(san_diego)\n",
    "strategy.reimbursement"
   ]
  },
  {
   "cell_type": "code",
   "execution_count": null,
   "metadata": {},
   "outputs": [],
   "source": []
  },
  {
   "cell_type": "code",
   "execution_count": null,
   "metadata": {},
   "outputs": [],
   "source": []
  },
  {
   "cell_type": "code",
   "execution_count": null,
   "metadata": {},
   "outputs": [],
   "source": []
  },
  {
   "cell_type": "code",
   "execution_count": null,
   "metadata": {},
   "outputs": [],
   "source": []
  },
  {
   "cell_type": "code",
   "execution_count": null,
   "metadata": {},
   "outputs": [],
   "source": []
  }
 ],
 "metadata": {
  "kernelspec": {
   "display_name": "Python 3",
   "language": "python",
   "name": "python3"
  },
  "language_info": {
   "codemirror_mode": {
    "name": "ipython",
    "version": 3
   },
   "file_extension": ".py",
   "mimetype": "text/x-python",
   "name": "python",
   "nbconvert_exporter": "python",
   "pygments_lexer": "ipython3",
   "version": "3.8.2"
  }
 },
 "nbformat": 4,
 "nbformat_minor": 2
}
