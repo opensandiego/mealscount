{
 "cells": [
  {
   "cell_type": "markdown",
   "metadata": {},
   "source": [
    "## MealsCount Config Parser  \n",
    "  \n",
    "This notebook contains functionality to parse the MealsCount configuration file (in JSON format). The file is used by the MealsCount backend service to read-in values used to arrive at groupings of schools for near-optimal CEP coverage within a school district.    "
   ]
  },
  {
   "cell_type": "code",
   "execution_count": 2,
   "metadata": {
    "collapsed": true
   },
   "outputs": [],
   "source": [
    "import sys\n",
    "import os\n",
    "import json\n",
    "import pandas as pd\n",
    "import numpy as np"
   ]
  },
  {
   "cell_type": "code",
   "execution_count": 3,
   "metadata": {
    "collapsed": true
   },
   "outputs": [],
   "source": [
    "def parseJSON(self,cfgfile):\n",
    "    \n",
    "    try:\n",
    "        with open(cfgfile) as f:\n",
    "            jsondata = json.load(f)\n",
    "    except ValueError as ve:\n",
    "        print(\"Failed to parse {}\".format(cfgfile))\n",
    "        raise ve\n",
    "    except Exception as e:\n",
    "        raise e  \n",
    "    \n",
    "    return jsondata"
   ]
  },
  {
   "cell_type": "code",
   "execution_count": 4,
   "metadata": {
    "collapsed": true
   },
   "outputs": [],
   "source": [
    "class mcConfig:\n",
    "    \"\"\"\n",
    "    Implementation for MealsCount configuration parser and data store.\n",
    "    \"\"\"        \n",
    "    \n",
    "    def __init__(self, cfgfile):\n",
    "        self.__err_status = False\n",
    "        self.__cfgfile = cfgfile\n",
    "        try:\n",
    "            self.__cfgdata = self.__parse(self.__cfgfile)\n",
    "        except Exception as e:\n",
    "            self.__err_status = True\n",
    "            raise e\n",
    "    \n",
    "    def status(self):\n",
    "        return not self.__err_status\n",
    "    \n",
    "    def version(self):\n",
    "        return self.__cfgdata[\"version\"]\n",
    "    \n",
    "    def params(self, scope=None):\n",
    "        if self.status():\n",
    "            return self.__cfgdata\n",
    "        else:\n",
    "            return None\n",
    "        \n",
    "    __parse = parseJSON         \n",
    "        "
   ]
  },
  {
   "cell_type": "code",
   "execution_count": 5,
   "metadata": {
    "collapsed": true
   },
   "outputs": [],
   "source": [
    "def displayModelConfig(self,cfgdata):\n",
    "    \n",
    "    print(\"\\n\")\n",
    "    print(\"MealsCount Model Configuration\")\n",
    "    print(\"------------------------------\")    \n",
    "    print(\"Version: {}\".format(cfgdata[\"version\"]))\n",
    "    print(\"Model Variant: {}\".format(cfgdata[\"model_params\"][\"model_variant\"]))\n",
    "    print(\"Default ISP Width (%): {}\".format(cfgdata[\"model_params\"][\"isp_width_default\"]))\n",
    "    print(\"ISP Width Bundle  (%): {}\".format(cfgdata[\"model_params\"][\"isp_width_bundle\"]))\n",
    "    print(\"Min CEP Threshold (%): {}\".format(cfgdata[\"model_params\"][\"min_cep_thold_pct\"]))\n",
    "    print(\"Max CEP Threshold (%): {}\".format(cfgdata[\"model_params\"][\"max_cep_thold_pct\"]))\n",
    "    print(\"CEP Rates Table:\")    \n",
    "    \n",
    "    df = pd.DataFrame(cfgdata[\"model_params\"][\"cep_rates\"])\n",
    "    df.set_index(\"region\",inplace=True)\n",
    "    df.index.name=None\n",
    "    \n",
    "    print(df)\n",
    "        "
   ]
  },
  {
   "cell_type": "code",
   "execution_count": 6,
   "metadata": {
    "collapsed": true
   },
   "outputs": [],
   "source": [
    "class mcModelConfig(mcConfig):\n",
    "    \"\"\"\n",
    "    Implementation for MealsCount Model Configuration\n",
    "    \"\"\"        \n",
    "    \n",
    "    def __init__(self, cfgfile):     \n",
    "        self.__rates_df = None\n",
    "        self.__regions = None\n",
    "        self.__cfgfile = cfgfile        \n",
    "        try:\n",
    "            mcConfig.__init__(self,cfgfile)\n",
    "        except Exception as e:\n",
    "            raise e\n",
    "    \n",
    "    def status(self):\n",
    "        return mcConfig.status(self)\n",
    "    \n",
    "    def regions(self):\n",
    "        if self.__regions is None:\n",
    "            if self.status():\n",
    "                self.__regions = mcConfig.params(self)[\"us_regions\"]\n",
    "                \n",
    "        return self.__regions\n",
    "    \n",
    "    def model_variant(self):\n",
    "        if self.status():\n",
    "            return mcConfig.params(self)[\"model_params\"][\"model_variant\"]\n",
    "    \n",
    "    def isp_width(self):\n",
    "        if self.status():\n",
    "            return mcConfig.params(self)[\"model_params\"][\"isp_width_default\"]\n",
    "    \n",
    "    def isp_width_bundle(self):\n",
    "        if self.status():\n",
    "            return mcConfig.params(self)[\"model_params\"][\"isp_width_bundle\"]\n",
    "        \n",
    "    def max_cep_thold_pct(self):\n",
    "        if self.status():\n",
    "            return mcConfig.params(self)[\"model_params\"][\"max_cep_thold_pct\"]\n",
    "        else:\n",
    "            return -1\n",
    "    def min_cep_thold_pct(self):\n",
    "        if self.status():\n",
    "            return mcConfig.params(self)[\"model_params\"][\"min_cep_thold_pct\"]\n",
    "        else:\n",
    "            return -1\n",
    "        \n",
    "    def cep_rates(self,region='default'):\n",
    "        if self.__rates_df is None:\n",
    "            if self.status():\n",
    "                self.__rates_df = pd.DataFrame(mcConfig.params(self)[\"model_params\"][\"cep_rates\"])\n",
    "                self.__rates_df.set_index(\"region\",inplace=True)\n",
    "                self.__rates_df.index.name=None                \n",
    "                                         \n",
    "        try:\n",
    "            cep_rates = self.__rates_df.loc[region]\n",
    "        except Exception as e:\n",
    "            # use default rates if no explicit rates found for the region\n",
    "            # specified (includes both invalid and default regions)            \n",
    "            cep_rates = self.__rates_df.loc[\"default\"]\n",
    "                        \n",
    "        return cep_rates\n",
    "    \n",
    "    def show(self):\n",
    "        if self.status():\n",
    "            self.__show(mcConfig.params(self))            \n",
    "        else:\n",
    "            print(\"Error: No configuration to display\")\n",
    "        \n",
    "    def params(self,scope='model'):\n",
    "        if self.status():\n",
    "            if scope is \"model\":\n",
    "                return mcConfig.params(self)[\"model_params\"]\n",
    "            else:\n",
    "                return mcConfig.params(self)\n",
    "        else:\n",
    "            return None\n",
    "    \n",
    "    __show = displayModelConfig"
   ]
  },
  {
   "cell_type": "markdown",
   "metadata": {},
   "source": [
    "### Usage  \n",
    "  \n",
    "Below code fragments demonstrate the usage of the above functionality.  "
   ]
  },
  {
   "cell_type": "code",
   "execution_count": 7,
   "metadata": {
    "collapsed": true
   },
   "outputs": [],
   "source": [
    "CWD = os.getcwd()\n",
    "\n",
    "CONFIG_FILE = \"config.json\""
   ]
  },
  {
   "cell_type": "code",
   "execution_count": 8,
   "metadata": {},
   "outputs": [
    {
     "name": "stdout",
     "output_type": "stream",
     "text": [
      "\n",
      "\n",
      "MealsCount Model Configuration\n",
      "------------------------------\n",
      "Version: 2.0\n",
      "Model Variant: v2\n",
      "Default ISP Width (%): 2.0\n",
      "ISP Width Bundle  (%): [0.01, 2.0, 6.25, 12.5, 22.5]\n",
      "Min CEP Threshold (%): 0.4\n",
      "Max CEP Threshold (%): 0.625\n",
      "CEP Rates Table:\n",
      "         nslp_lunch_free_rate  nslp_lunch_paid_rate  sbp_bkfst_free_rate  \\\n",
      "default                  3.23                  0.31                 1.75   \n",
      "AK                       5.24                  0.50                 2.79   \n",
      "HI                       3.78                  0.36                 2.03   \n",
      "PR                       3.78                  0.36                 2.03   \n",
      "\n",
      "         sbp_bkfst_paid_rate  \n",
      "default                 0.30  \n",
      "AK                      0.45  \n",
      "HI                      0.34  \n",
      "PR                      0.34  \n"
     ]
    }
   ],
   "source": [
    "cfg = mcModelConfig(CONFIG_FILE)\n",
    "cfg.show()"
   ]
  },
  {
   "cell_type": "code",
   "execution_count": 9,
   "metadata": {},
   "outputs": [
    {
     "data": {
      "text/plain": [
       "True"
      ]
     },
     "execution_count": 9,
     "metadata": {},
     "output_type": "execute_result"
    }
   ],
   "source": [
    "# True => No Error; False => Error (likely due to errors stemming from parsing config file)\n",
    "cfg.status()"
   ]
  },
  {
   "cell_type": "code",
   "execution_count": 10,
   "metadata": {},
   "outputs": [
    {
     "data": {
      "text/plain": [
       "'2.0'"
      ]
     },
     "execution_count": 10,
     "metadata": {},
     "output_type": "execute_result"
    }
   ],
   "source": [
    "cfg.version()"
   ]
  },
  {
   "cell_type": "code",
   "execution_count": 11,
   "metadata": {},
   "outputs": [
    {
     "name": "stdout",
     "output_type": "stream",
     "text": [
      "Pretty printing has been turned OFF\n"
     ]
    },
    {
     "data": {
      "text/plain": [
       "{'model_variant': 'v2', 'isp_width_default': 2.0, 'isp_width_bundle': [0.01, 2.0, 6.25, 12.5, 22.5], 'min_cep_thold_pct': 0.4, 'max_cep_thold_pct': 0.625, 'cep_rates': [{'region': 'default', 'nslp_lunch_free_rate': 3.23, 'nslp_lunch_paid_rate': 0.31, 'sbp_bkfst_free_rate': 1.75, 'sbp_bkfst_paid_rate': 0.3}, {'region': 'AK', 'nslp_lunch_free_rate': 5.24, 'nslp_lunch_paid_rate': 0.5, 'sbp_bkfst_free_rate': 2.79, 'sbp_bkfst_paid_rate': 0.45}, {'region': 'HI', 'nslp_lunch_free_rate': 3.78, 'nslp_lunch_paid_rate': 0.36, 'sbp_bkfst_free_rate': 2.03, 'sbp_bkfst_paid_rate': 0.34}, {'region': 'PR', 'nslp_lunch_free_rate': 3.78, 'nslp_lunch_paid_rate': 0.36, 'sbp_bkfst_free_rate': 2.03, 'sbp_bkfst_paid_rate': 0.34}]}"
      ]
     },
     "execution_count": 11,
     "metadata": {},
     "output_type": "execute_result"
    }
   ],
   "source": [
    "%pprint\n",
    "# by default only the model parameters are fetched in raw format (json/Python dict)\n",
    "cfg.params()"
   ]
  },
  {
   "cell_type": "code",
   "execution_count": 12,
   "metadata": {},
   "outputs": [
    {
     "data": {
      "text/plain": [
       "['AL', 'AK', 'AZ', 'AR', 'CA', 'CO', 'CT', 'DC', 'DE', 'FL', 'GA', 'HI', 'ID', 'IL', 'IN', 'IA', 'KS', 'KY', 'LA', 'ME', 'MD', 'MA', 'MI', 'MN', 'MS', 'MO', 'MT', 'NE', 'NV', 'NH', 'NJ', 'NM', 'NY', 'NC', 'ND', 'OH', 'OK', 'OR', 'PA', 'PR', 'RI', 'SC', 'SD', 'TN', 'TX', 'UT', 'VT', 'VA', 'WA', 'WV', 'WI', 'WY']"
      ]
     },
     "execution_count": 12,
     "metadata": {},
     "output_type": "execute_result"
    }
   ],
   "source": [
    "# regions all US states + union territories\n",
    "cfg.regions()"
   ]
  },
  {
   "cell_type": "code",
   "execution_count": 13,
   "metadata": {},
   "outputs": [
    {
     "data": {
      "text/plain": [
       "'v2'"
      ]
     },
     "execution_count": 13,
     "metadata": {},
     "output_type": "execute_result"
    }
   ],
   "source": [
    "cfg.model_variant()"
   ]
  },
  {
   "cell_type": "code",
   "execution_count": 14,
   "metadata": {},
   "outputs": [
    {
     "data": {
      "text/plain": [
       "2.0"
      ]
     },
     "execution_count": 14,
     "metadata": {},
     "output_type": "execute_result"
    }
   ],
   "source": [
    "cfg.isp_width()"
   ]
  },
  {
   "cell_type": "code",
   "execution_count": 15,
   "metadata": {},
   "outputs": [
    {
     "data": {
      "text/plain": [
       "[0.01, 2.0, 6.25, 12.5, 22.5]"
      ]
     },
     "execution_count": 15,
     "metadata": {},
     "output_type": "execute_result"
    }
   ],
   "source": [
    "cfg.isp_width_bundle()"
   ]
  },
  {
   "cell_type": "code",
   "execution_count": 16,
   "metadata": {},
   "outputs": [
    {
     "data": {
      "text/plain": [
       "0.4"
      ]
     },
     "execution_count": 16,
     "metadata": {},
     "output_type": "execute_result"
    }
   ],
   "source": [
    "cfg.min_cep_thold_pct()"
   ]
  },
  {
   "cell_type": "code",
   "execution_count": 17,
   "metadata": {},
   "outputs": [
    {
     "data": {
      "text/plain": [
       "0.625"
      ]
     },
     "execution_count": 17,
     "metadata": {},
     "output_type": "execute_result"
    }
   ],
   "source": [
    "cfg.max_cep_thold_pct()"
   ]
  },
  {
   "cell_type": "code",
   "execution_count": 18,
   "metadata": {},
   "outputs": [
    {
     "data": {
      "text/plain": [
       "nslp_lunch_free_rate    3.23\n",
       "nslp_lunch_paid_rate    0.31\n",
       "sbp_bkfst_free_rate     1.75\n",
       "sbp_bkfst_paid_rate     0.30\n",
       "Name: default, dtype: float64"
      ]
     },
     "execution_count": 18,
     "metadata": {},
     "output_type": "execute_result"
    }
   ],
   "source": [
    "default_rates = cfg.cep_rates(\"default\")\n",
    "default_rates"
   ]
  },
  {
   "cell_type": "code",
   "execution_count": 19,
   "metadata": {},
   "outputs": [
    {
     "data": {
      "text/plain": [
       "<class 'pandas.core.series.Series'>"
      ]
     },
     "execution_count": 19,
     "metadata": {},
     "output_type": "execute_result"
    }
   ],
   "source": [
    "type(default_rates)"
   ]
  },
  {
   "cell_type": "code",
   "execution_count": 20,
   "metadata": {},
   "outputs": [
    {
     "data": {
      "text/plain": [
       "1.75"
      ]
     },
     "execution_count": 20,
     "metadata": {},
     "output_type": "execute_result"
    }
   ],
   "source": [
    "default_rates[\"sbp_bkfst_free_rate\"]"
   ]
  },
  {
   "cell_type": "code",
   "execution_count": 21,
   "metadata": {},
   "outputs": [
    {
     "data": {
      "text/plain": [
       "nslp_lunch_free_rate    3.23\n",
       "nslp_lunch_paid_rate    0.31\n",
       "sbp_bkfst_free_rate     1.75\n",
       "sbp_bkfst_paid_rate     0.30\n",
       "Name: default, dtype: float64"
      ]
     },
     "execution_count": 21,
     "metadata": {},
     "output_type": "execute_result"
    }
   ],
   "source": [
    "# rates for a default region\n",
    "cfg.cep_rates(\"CA\")"
   ]
  },
  {
   "cell_type": "code",
   "execution_count": 22,
   "metadata": {},
   "outputs": [
    {
     "data": {
      "text/plain": [
       "nslp_lunch_free_rate    3.78\n",
       "nslp_lunch_paid_rate    0.36\n",
       "sbp_bkfst_free_rate     2.03\n",
       "sbp_bkfst_paid_rate     0.34\n",
       "Name: PR, dtype: float64"
      ]
     },
     "execution_count": 22,
     "metadata": {},
     "output_type": "execute_result"
    }
   ],
   "source": [
    "# rates for a non-defualt region\n",
    "cfg.cep_rates(\"PR\")"
   ]
  },
  {
   "cell_type": "code",
   "execution_count": 23,
   "metadata": {},
   "outputs": [
    {
     "data": {
      "text/plain": [
       "nslp_lunch_free_rate    3.23\n",
       "nslp_lunch_paid_rate    0.31\n",
       "sbp_bkfst_free_rate     1.75\n",
       "sbp_bkfst_paid_rate     0.30\n",
       "Name: default, dtype: float64"
      ]
     },
     "execution_count": 23,
     "metadata": {},
     "output_type": "execute_result"
    }
   ],
   "source": [
    "# rates for non-existent/invalid region results in default rates being fetched\n",
    "cfg.cep_rates(\"XYZ\")"
   ]
  },
  {
   "cell_type": "code",
   "execution_count": 24,
   "metadata": {},
   "outputs": [
    {
     "name": "stdout",
     "output_type": "stream",
     "text": [
      "{\n",
      "  \"version\": \"2.0\",\n",
      "  \"us_regions\": [\n",
      "    \"AL\",\n",
      "    \"AK\",\n",
      "    \"AZ\",\n",
      "    \"AR\",\n",
      "    \"CA\",\n",
      "    \"CO\",\n",
      "    \"CT\",\n",
      "    \"DC\",\n",
      "    \"DE\",\n",
      "    \"FL\",\n",
      "    \"GA\",\n",
      "    \"HI\",\n",
      "    \"ID\",\n",
      "    \"IL\",\n",
      "    \"IN\",\n",
      "    \"IA\",\n",
      "    \"KS\",\n",
      "    \"KY\",\n",
      "    \"LA\",\n",
      "    \"ME\",\n",
      "    \"MD\",\n",
      "    \"MA\",\n",
      "    \"MI\",\n",
      "    \"MN\",\n",
      "    \"MS\",\n",
      "    \"MO\",\n",
      "    \"MT\",\n",
      "    \"NE\",\n",
      "    \"NV\",\n",
      "    \"NH\",\n",
      "    \"NJ\",\n",
      "    \"NM\",\n",
      "    \"NY\",\n",
      "    \"NC\",\n",
      "    \"ND\",\n",
      "    \"OH\",\n",
      "    \"OK\",\n",
      "    \"OR\",\n",
      "    \"PA\",\n",
      "    \"PR\",\n",
      "    \"RI\",\n",
      "    \"SC\",\n",
      "    \"SD\",\n",
      "    \"TN\",\n",
      "    \"TX\",\n",
      "    \"UT\",\n",
      "    \"VT\",\n",
      "    \"VA\",\n",
      "    \"WA\",\n",
      "    \"WV\",\n",
      "    \"WI\",\n",
      "    \"WY\"\n",
      "  ],\n",
      "  \"model_params\": {\n",
      "    \"model_variant\": \"v2\",\n",
      "    \"isp_width_default\": 2.0,\n",
      "    \"isp_width_bundle\": [\n",
      "      0.01,\n",
      "      2.0,\n",
      "      6.25,\n",
      "      12.5,\n",
      "      22.5\n",
      "    ],\n",
      "    \"min_cep_thold_pct\": 0.4,\n",
      "    \"max_cep_thold_pct\": 0.625,\n",
      "    \"cep_rates\": [\n",
      "      {\n",
      "        \"region\": \"default\",\n",
      "        \"nslp_lunch_free_rate\": 3.23,\n",
      "        \"nslp_lunch_paid_rate\": 0.31,\n",
      "        \"sbp_bkfst_free_rate\": 1.75,\n",
      "        \"sbp_bkfst_paid_rate\": 0.3\n",
      "      },\n",
      "      {\n",
      "        \"region\": \"AK\",\n",
      "        \"nslp_lunch_free_rate\": 5.24,\n",
      "        \"nslp_lunch_paid_rate\": 0.5,\n",
      "        \"sbp_bkfst_free_rate\": 2.79,\n",
      "        \"sbp_bkfst_paid_rate\": 0.45\n",
      "      },\n",
      "      {\n",
      "        \"region\": \"HI\",\n",
      "        \"nslp_lunch_free_rate\": 3.78,\n",
      "        \"nslp_lunch_paid_rate\": 0.36,\n",
      "        \"sbp_bkfst_free_rate\": 2.03,\n",
      "        \"sbp_bkfst_paid_rate\": 0.34\n",
      "      },\n",
      "      {\n",
      "        \"region\": \"PR\",\n",
      "        \"nslp_lunch_free_rate\": 3.78,\n",
      "        \"nslp_lunch_paid_rate\": 0.36,\n",
      "        \"sbp_bkfst_free_rate\": 2.03,\n",
      "        \"sbp_bkfst_paid_rate\": 0.34\n",
      "      }\n",
      "    ]\n",
      "  }\n",
      "}\n"
     ]
    }
   ],
   "source": [
    "# fetch all parameters by specifying 'all'\n",
    "params = cfg.params('all')\n",
    "print(json.dumps(params, indent=2))"
   ]
  },
  {
   "cell_type": "markdown",
   "metadata": {},
   "source": [
    "## TODO  \n",
    "  \n",
    "* Test for error conditions (malformed files resulting in parsing errors)  \n",
    "* Add documentation to code (and elsewhere)"
   ]
  }
 ],
 "metadata": {
  "kernelspec": {
   "display_name": "Python 3",
   "language": "python",
   "name": "python3"
  },
  "language_info": {
   "codemirror_mode": {
    "name": "ipython",
    "version": 3
   },
   "file_extension": ".py",
   "mimetype": "text/x-python",
   "name": "python",
   "nbconvert_exporter": "python",
   "pygments_lexer": "ipython3",
   "version": "3.6.3"
  }
 },
 "nbformat": 4,
 "nbformat_minor": 2
}
